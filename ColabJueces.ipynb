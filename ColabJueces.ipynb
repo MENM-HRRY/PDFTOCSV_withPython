{
  "nbformat": 4,
  "nbformat_minor": 0,
  "metadata": {
    "colab": {
      "provenance": []
    },
    "kernelspec": {
      "name": "python3",
      "display_name": "Python 3"
    },
    "language_info": {
      "name": "python"
    }
  },
  "cells": [
    {
      "cell_type": "markdown",
      "source": [
        " 🦉Cuando subes un archivo manualmente a Colab, este se\n",
        "    almacena en el entorno temporal\n",
        " (que se borra al cerrar la sesión). 📁 debes moverlo a tu Google Drive para conservarlo\n",
        "  ya que en cada actualización se pierde los que subes y molesto actualizar.\n",
        "\n",
        "Sube el archivo PDF usando el botón de upload de Colab, el archivo estára en /content/\n",
        "\n",
        "Usa el nombre exacto en este caso es (CEPL-Aspirantes-Insc-0712-1230.pdf)\n",
        "\n",
        "Debes verificar que quedó guardado en tu carpeta  /MyDrive:"
      ],
      "metadata": {
        "id": "Lqe6EFu4xsxs"
      }
    },
    {
      "cell_type": "code",
      "source": [
        "from google.colab import drive\n",
        "import shutil\n",
        "import os\n",
        "\n",
        "# Montar Google Drive (con force_remount para evitar advertencias)\n",
        "drive.mount('/content/drive', force_remount=True)\n",
        "\n",
        "# Verificar archivo en Colab\n",
        "ruta_origen = '/content/CEPL-Aspirantes-Insc-0712-1230.pdf'\n",
        "ruta_destino = '/content/drive/MyDrive/ConcursoJueces/'\n",
        "\n",
        "# ---------------------------\n",
        "# Paso 1: Verificar origen\n",
        "# ---------------------------\n",
        "print(\"🔍 Contenido de /content/ (Colab):\")\n",
        "print(os.listdir('/content'))  # Mostrar archivos en Colab\n",
        "\n",
        "if os.path.exists(ruta_origen):\n",
        "    print(f\"\\n✅ Archivo encontrado en Colab: {ruta_origen}\")\n",
        "\n",
        "    # ---------------------------\n",
        "    # Paso 2: Crear carpeta ConcursoJueces si no existe\n",
        "    # ---------------------------\n",
        "    os.makedirs(ruta_destino, exist_ok=True)\n",
        "\n",
        "    # ---------------------------\n",
        "    # Paso 3: Copiar archivo\n",
        "    # ---------------------------\n",
        "    try:\n",
        "        shutil.copy(ruta_origen, ruta_destino)\n",
        "        print(f\"\\n✅ Archivo copiado a Drive: {ruta_destino}\")\n",
        "\n",
        "        # Verificación final\n",
        "        if os.path.exists(os.path.join(ruta_destino, os.path.basename(ruta_origen))):\n",
        "            print(f\"\\n🔥 Archivo confirmado en Drive: {ruta_destino}\")\n",
        "        else:\n",
        "            print(\"\\n⚠️ Error: La copia no tuvo efecto\")\n",
        "\n",
        "    except Exception as e:\n",
        "        print(f\"\\n❌ Error al copiar: {str(e)}\")\n",
        "\n",
        "else:\n",
        "    print(f\"\\n❌ Archivo NO encontrado en Colab: {ruta_origen}\")\n",
        "    print(\"Posibles causas:\")\n",
        "    print(\"1. El nombre del archivo no coincide (ver mayúsculas y extensión .pdf)\")\n",
        "    print(\"2. No se subió manualmente a Colab\")\n",
        "    print(\"3. Se subió a otra ruta (no a /content/)\")"
      ],
      "metadata": {
        "colab": {
          "base_uri": "https://localhost:8080/"
        },
        "id": "y7GHqPfqqGkB",
        "outputId": "ff9bab43-7147-4a8e-b34b-e58cb6260f08"
      },
      "execution_count": 22,
      "outputs": [
        {
          "output_type": "stream",
          "name": "stdout",
          "text": [
            "Mounted at /content/drive\n",
            "🔍 Contenido de /content/ (Colab):\n",
            "['.config', 'CEPL-Aspirantes-Insc-0712-1230.pdf', 'drive', '.ipynb_checkpoints', 'sample_data']\n",
            "\n",
            "✅ Archivo encontrado en Colab: /content/CEPL-Aspirantes-Insc-0712-1230.pdf\n",
            "\n",
            "✅ Archivo copiado a Drive: /content/drive/MyDrive/ConcursoJueces/\n",
            "\n",
            "🔥 Archivo confirmado en Drive: /content/drive/MyDrive/ConcursoJueces/\n"
          ]
        }
      ]
    },
    {
      "cell_type": "markdown",
      "source": [
        "🦉 Intala la libreria para trabajar con PDF´s"
      ],
      "metadata": {
        "id": "nxSwbU1nyJJN"
      }
    },
    {
      "cell_type": "code",
      "source": [
        "!pip install pdfplumber"
      ],
      "metadata": {
        "colab": {
          "base_uri": "https://localhost:8080/"
        },
        "id": "goRy9T19rU7G",
        "outputId": "ca57f491-24e8-4e99-f4d7-7e87c69d8893"
      },
      "execution_count": 24,
      "outputs": [
        {
          "output_type": "stream",
          "name": "stdout",
          "text": [
            "Collecting pdfplumber\n",
            "  Downloading pdfplumber-0.11.5-py3-none-any.whl.metadata (42 kB)\n",
            "\u001b[?25l     \u001b[90m━━━━━━━━━━━━━━━━━━━━━━━━━━━━━━━━━━━━━━━━\u001b[0m \u001b[32m0.0/42.5 kB\u001b[0m \u001b[31m?\u001b[0m eta \u001b[36m-:--:--\u001b[0m\r\u001b[2K     \u001b[90m━━━━━━━━━━━━━━━━━━━━━━━━━━━━━━━━━━━━━━━━\u001b[0m \u001b[32m42.5/42.5 kB\u001b[0m \u001b[31m1.9 MB/s\u001b[0m eta \u001b[36m0:00:00\u001b[0m\n",
            "\u001b[?25hCollecting pdfminer.six==20231228 (from pdfplumber)\n",
            "  Downloading pdfminer.six-20231228-py3-none-any.whl.metadata (4.2 kB)\n",
            "Requirement already satisfied: Pillow>=9.1 in /usr/local/lib/python3.11/dist-packages (from pdfplumber) (11.1.0)\n",
            "Requirement already satisfied: pypdfium2>=4.18.0 in /usr/local/lib/python3.11/dist-packages (from pdfplumber) (4.30.1)\n",
            "Requirement already satisfied: charset-normalizer>=2.0.0 in /usr/local/lib/python3.11/dist-packages (from pdfminer.six==20231228->pdfplumber) (3.4.1)\n",
            "Requirement already satisfied: cryptography>=36.0.0 in /usr/local/lib/python3.11/dist-packages (from pdfminer.six==20231228->pdfplumber) (43.0.3)\n",
            "Requirement already satisfied: cffi>=1.12 in /usr/local/lib/python3.11/dist-packages (from cryptography>=36.0.0->pdfminer.six==20231228->pdfplumber) (1.17.1)\n",
            "Requirement already satisfied: pycparser in /usr/local/lib/python3.11/dist-packages (from cffi>=1.12->cryptography>=36.0.0->pdfminer.six==20231228->pdfplumber) (2.22)\n",
            "Downloading pdfplumber-0.11.5-py3-none-any.whl (59 kB)\n",
            "\u001b[2K   \u001b[90m━━━━━━━━━━━━━━━━━━━━━━━━━━━━━━━━━━━━━━━━\u001b[0m \u001b[32m59.5/59.5 kB\u001b[0m \u001b[31m3.2 MB/s\u001b[0m eta \u001b[36m0:00:00\u001b[0m\n",
            "\u001b[?25hDownloading pdfminer.six-20231228-py3-none-any.whl (5.6 MB)\n",
            "\u001b[2K   \u001b[90m━━━━━━━━━━━━━━━━━━━━━━━━━━━━━━━━━━━━━━━━\u001b[0m \u001b[32m5.6/5.6 MB\u001b[0m \u001b[31m44.7 MB/s\u001b[0m eta \u001b[36m0:00:00\u001b[0m\n",
            "\u001b[?25hInstalling collected packages: pdfminer.six, pdfplumber\n",
            "  Attempting uninstall: pdfminer.six\n",
            "    Found existing installation: pdfminer.six 20240706\n",
            "    Uninstalling pdfminer.six-20240706:\n",
            "      Successfully uninstalled pdfminer.six-20240706\n",
            "\u001b[31mERROR: pip's dependency resolver does not currently take into account all the packages that are installed. This behaviour is the source of the following dependency conflicts.\n",
            "camelot-py 1.0.0 requires pdfminer-six>=20240706, but you have pdfminer-six 20231228 which is incompatible.\u001b[0m\u001b[31m\n",
            "\u001b[0mSuccessfully installed pdfminer.six-20231228 pdfplumber-0.11.5\n"
          ]
        }
      ]
    },
    {
      "cell_type": "markdown",
      "source": [
        "🧙  Trasforma la tabla 📑 en un CSV 📄"
      ],
      "metadata": {
        "id": "1CcAbw60yQa0"
      }
    },
    {
      "cell_type": "code",
      "source": [
        "from google.colab import drive\n",
        "import pandas as pd\n",
        "import pdfplumber\n",
        "import os\n",
        "\n",
        "# Montar Google Drive (solo necesitas hacerlo una vez por sesión)\n",
        "drive.mount('/content/drive')\n",
        "\n",
        "# Leer el PDF\n",
        "with pdfplumber.open('CEPL-Aspirantes-Insc-0712-1230.pdf') as pdf:\n",
        "    print(f\"El PDF tiene {len(pdf.pages)} páginas.\")\n",
        "\n",
        "    # Lista para almacenar los datos extraídos\n",
        "    all_rows = []\n",
        "\n",
        "    # Procesar cada página\n",
        "    for page_num, page in enumerate(pdf.pages, start=1):\n",
        "        # Extraer el texto de la página\n",
        "        page_text = page.extract_text()\n",
        "\n",
        "        # Dividir el texto en líneas\n",
        "        lines = page_text.split('\\n')\n",
        "\n",
        "        # Procesar cada línea\n",
        "        for line in lines:\n",
        "            # Dividir la línea en palabras\n",
        "            parts = line.split()\n",
        "            if len(parts) >= 3 and parts[0].isdigit():\n",
        "                consecutivo = parts[0]\n",
        "\n",
        "                # Identificar el inicio del cargo mediante palabras clave o patrones\n",
        "                cargo_keywords = [\n",
        "                    \"Ministras\", \"Ministros\", \"Magistradas\", \"Magistrados\",\n",
        "                    \"Tribunal\", \"Disciplina\", \"Justicia\", \"Sala\",\n",
        "                    \"Superior\", \"Electoral\", \"Poder\", \"Federación\",\n",
        "                    \"Circuito\", \"validación\",\"En\",\"Juezas\"\n",
        "                ]\n",
        "\n",
        "                # Buscar el índice donde comienza el cargo\n",
        "                cargo_index = next((i for i, word in enumerate(parts[1:], start=1) if word in cargo_keywords), len(parts))\n",
        "\n",
        "                # Separar el nombre y el cargo\n",
        "                nombre = ' '.join(parts[1:cargo_index])  # Todo antes del cargo\n",
        "                cargo = ' '.join(parts[cargo_index:])  # Todo a partir del inicio del cargo\n",
        "\n",
        "                # Agregar los datos extraídos a la lista\n",
        "                all_rows.append([page_num, consecutivo, nombre.strip(), cargo.strip()])\n",
        "\n",
        "# Crear el DataFrame y exportar a CSV\n",
        "df = pd.DataFrame(all_rows, columns=['Página', 'Consecutivo', 'Nombre', 'Cargo'])\n",
        "\n",
        "# Ruta de guardado en Drive\n",
        "save_dir = '/content/drive/MyDrive/ConcursoJueces/'  # Puedes cambiar esta ruta\n",
        "os.makedirs(save_dir, exist_ok=True)  # Crear directorio si no existe\n",
        "\n",
        "output_path = os.path.join(save_dir, 'pruebauno.csv')\n",
        "df.to_csv(output_path, index=False, encoding='utf-8-sig')\n",
        "\n",
        "print(f\"\\n✅ Archivo guardado en Drive: {output_path}\")\n",
        "print(f\"Total de registros: {len(df)}\")"
      ],
      "metadata": {
        "colab": {
          "base_uri": "https://localhost:8080/"
        },
        "id": "wu4STjO4ogXV",
        "outputId": "fbf36220-d319-46a3-f97b-46e2d9a82fae"
      },
      "execution_count": 25,
      "outputs": [
        {
          "output_type": "stream",
          "name": "stdout",
          "text": [
            "Drive already mounted at /content/drive; to attempt to forcibly remount, call drive.mount(\"/content/drive\", force_remount=True).\n",
            "El PDF tiene 149 páginas.\n",
            "\n",
            "✅ Archivo guardado en Drive: /content/drive/MyDrive/ConcursoJueces/pruebauno.csv\n",
            "Total de registros: 10959\n"
          ]
        }
      ]
    },
    {
      "cell_type": "markdown",
      "source": [
        "Pubica el CSV de tu drive en googleSheet para revisarlo 🔗\n",
        "\n",
        "\n",
        "\n",
        "  | CONSECUTIVO | NOMBRE | Cargo   |\n",
        "|-------------|--------|---------|\n",
        "| 01          | MPFJ   | JUECES  |\n",
        "| 02          | ABC    | MAGISTRADO |\n",
        "| 03          | XYZ    | FISCAL  |"
      ],
      "metadata": {
        "id": "4qmfKA9IzEQQ"
      }
    },
    {
      "cell_type": "code",
      "source": [
        "from google.colab import drive\n",
        "from googleapiclient.discovery import build\n",
        "from oauth2client.client import GoogleCredentials\n",
        "\n",
        "# Montar Google Drive\n",
        "drive.mount('/content/drive')\n",
        "\n",
        "# Autenticación para usar la API de Google Drive\n",
        "credentials = GoogleCredentials.get_application_default()\n",
        "service = build('drive', 'v3', credentials=credentials)\n",
        "\n",
        "# ID del archivo ya existente en Google Sheets\n",
        "file_id = '1cELLJBG91TPimvarl84MZlpA0jXrdPeieBVvMmqhMzo'\n",
        "\n",
        "# Cambiar permisos del archivo para que sea público\n",
        "permissions = {\n",
        "    'type': 'anyone',  # Permitir acceso a cualquiera con el enlace\n",
        "    'role': 'reader'   # Solo lectura\n",
        "}\n",
        "service.permissions().create(fileId=file_id, body=permissions).execute()\n",
        "\n",
        "# Generar enlace público para Google Sheets\n",
        "sheets_link = f\"https://docs.google.com/spreadsheets/d/{file_id}/edit\"\n",
        "\n",
        "print(f\"El archivo ahora es público. Accede aquí: {sheets_link}\")\n"
      ],
      "metadata": {
        "colab": {
          "base_uri": "https://localhost:8080/"
        },
        "id": "0Am1dmlVwnUF",
        "outputId": "9a021586-bb9b-4d27-c3d3-a0432e56685b"
      },
      "execution_count": 33,
      "outputs": [
        {
          "output_type": "stream",
          "name": "stdout",
          "text": [
            "Drive already mounted at /content/drive; to attempt to forcibly remount, call drive.mount(\"/content/drive\", force_remount=True).\n",
            "El archivo ahora es público. Accede aquí: https://docs.google.com/spreadsheets/d/1cELLJBG91TPimvarl84MZlpA0jXrdPeieBVvMmqhMzo/edit\n"
          ]
        }
      ]
    },
    {
      "cell_type": "markdown",
      "source": [
        "s"
      ],
      "metadata": {
        "id": "qNUlkKfAxhmT"
      }
    },
    {
      "cell_type": "code",
      "source": [
        "import pandas as pd\n",
        "import re\n",
        "from pathlib import Path\n",
        "from google.colab import drive\n",
        "\n",
        "# Montar Google Drive\n",
        "drive.mount('/content/drive')\n",
        "\n",
        "def validar_nombre(nombre):\n",
        "    nombre = str(nombre)\n",
        "    problemas = []\n",
        "    if re.search(r'\\d', nombre):\n",
        "        problemas.append(\"contiene_números\")\n",
        "    if '  ' in nombre:\n",
        "        problemas.append(\"espacios_múltiples\")\n",
        "    if nombre.strip() != nombre:\n",
        "        problemas.append(\"espacios_extremos\")\n",
        "    return problemas if problemas else None\n",
        "\n",
        "# Configuración de rutas en Google Drive\n",
        "ARCHIVO_ORIGINAL = \"/content/drive/MyDrive/ConcursoJueces/pruebauno.csv\"\n",
        "RUTA_REPORTE = \"/content/drive/MyDrive/ConcursoJueces/reportes/problemas_nombre.csv\"\n",
        "\n",
        "# 1. Leer archivo original\n",
        "try:\n",
        "    listaOriginal = pd.read_csv(ARCHIVO_ORIGINAL, dtype=str)\n",
        "    print(f\"✅ Archivo leído: {Path(ARCHIVO_ORIGINAL).resolve()}\")\n",
        "except FileNotFoundError as e:\n",
        "    print(f\"❌ Error crítico: {str(e)}\")\n",
        "    print(f\"Verifica que el archivo existe en esta ubicación:\\n{Path(ARCHIVO_ORIGINAL).resolve()}\")\n",
        "    exit()\n",
        "\n",
        "# 2. Crear copia limpia\n",
        "Copia_lista = listaOriginal.copy()\n",
        "Copia_lista['Nombre'] = Copia_lista['Nombre'].str.strip()\n",
        "\n",
        "# 3. Detectar registros problemáticos (usando el original)\n",
        "falsos_registros = listaOriginal[\n",
        "    listaOriginal['Nombre'].apply(\n",
        "        lambda x: bool(validar_nombre(x))\n",
        "    )\n",
        "].copy()\n",
        "\n",
        "# 4. Guardar reporte con verificación\n",
        "try:\n",
        "    # Crear estructura de directorios\n",
        "    Path(RUTA_REPORTE).parent.mkdir(parents=True, exist_ok=True)\n",
        "\n",
        "    # Guardar CSV con codificación adecuada\n",
        "    falsos_registros.to_csv(RUTA_REPORTE, index=False, encoding='utf-8-sig')\n",
        "\n",
        "    # Verificación post-guardado\n",
        "    if Path(RUTA_REPORTE).exists():\n",
        "        print(f\"\\n💾 Reporte guardado en: {Path(RUTA_REPORTE).resolve()}\")\n",
        "        print(f\"📄 Tamaño del archivo: {Path(RUTA_REPORTE).stat().st_size} bytes\")\n",
        "        print(f\"📝 Registros en reporte: {len(falsos_registros)}\")\n",
        "    else:\n",
        "        raise Exception(\"El archivo no se creó debido a un error desconocido\")\n",
        "\n",
        "except Exception as e:\n",
        "    print(f\"\\n❌ Error al guardar el reporte: {str(e)}\")\n",
        "    print(f\"Ruta intentada: {Path(RUTA_REPORTE).resolve()}\")\n",
        "    print(\"Verifica los permisos de escritura en Google Drive\")\n",
        "\n",
        "# 5. Mostrar resumen detallado\n",
        "print(\"\\n\" + \"═\"*50)\n",
        "print(\"RESUMEN EJECUCIÓN\".center(50))\n",
        "print(\"═\"*50)\n",
        "print(f\"📂 Archivo original: {Path(ARCHIVO_ORIGINAL).name}\")\n",
        "print(f\"📦 Total registros: {len(listaOriginal):,}\")\n",
        "print(f\"🚨 Problemas detectados: {len(falsos_registros):,}\")\n",
        "print(f\"🧹 Registros limpios: {len(Copia_lista):,}\")\n",
        "print(\"═\"*50)\n",
        "\n",
        "# Mostrar muestra de registros problemáticos\n",
        "if not falsos_registros.empty:\n",
        "    print(\"\\n🔍 Primeros 3 registros con problemas:\")\n",
        "    print(falsos_registros[['Página', 'Consecutivo', 'Nombre', 'Cargo']].head(3).to_markdown(index=False))\n",
        "else:\n",
        "    print(\"\\n🎉 ¡No se encontraron registros problemáticos!\")"
      ],
      "metadata": {
        "colab": {
          "base_uri": "https://localhost:8080/"
        },
        "id": "DfvyrNXPxhCd",
        "outputId": "4039babd-4e17-427a-dca8-2b1478e805b0"
      },
      "execution_count": 1,
      "outputs": [
        {
          "output_type": "stream",
          "name": "stdout",
          "text": [
            "Drive already mounted at /content/drive; to attempt to forcibly remount, call drive.mount(\"/content/drive\", force_remount=True).\n",
            "✅ Archivo leído: /content/drive/MyDrive/ConcursoJueces/pruebauno.csv\n",
            "\n",
            "💾 Reporte guardado en: /content/drive/MyDrive/ConcursoJueces/reportes/problemas_nombre.csv\n",
            "📄 Tamaño del archivo: 450 bytes\n",
            "📝 Registros en reporte: 5\n",
            "\n",
            "══════════════════════════════════════════════════\n",
            "                RESUMEN EJECUCIÓN                 \n",
            "══════════════════════════════════════════════════\n",
            "📂 Archivo original: pruebauno.csv\n",
            "📦 Total registros: 10,959\n",
            "🚨 Problemas detectados: 5\n",
            "🧹 Registros limpios: 10,959\n",
            "══════════════════════════════════════════════════\n",
            "\n",
            "🔍 Primeros 3 registros con problemas:\n",
            "|   Página |   Consecutivo | Nombre                   | Cargo                                                           |\n",
            "|---------:|--------------:|:-------------------------|:----------------------------------------------------------------|\n",
            "|       42 |          3049 | LOPEZ ARVIZU GUADALUPE86 | Magistradas y Magistrados de Circuito                           |\n",
            "|       99 |          7311 | JORGE1 JORGE1 JORGE1     | Juezas y Jueces de Distrito del Poder Judicial de la Federación |\n",
            "|       99 |          7312 | JORGE3 JORGE3 JORGE3     | Juezas y Jueces de Distrito del Poder Judicial de la Federación |\n"
          ]
        }
      ]
    }
  ]
}